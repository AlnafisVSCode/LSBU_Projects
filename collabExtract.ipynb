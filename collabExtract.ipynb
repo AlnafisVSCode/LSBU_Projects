{
 "cells": [
  {
   "cell_type": "code",
   "execution_count": null,
   "metadata": {},
   "outputs": [],
   "source": [
    "%pip install PyPDF2\n",
    "from pypdf import PdfReader"
   ]
  },
  {
   "cell_type": "code",
   "execution_count": null,
   "metadata": {},
   "outputs": [],
   "source": [
    "\n",
    "# Reader  = PdfReader ('The Journal of Finance - 2023 - HASSAN - The Global Impact of Brexit Uncertainty.pdf')\n",
    "# print(len(Reader .pages))\n",
    "# page = Reader.pages[1] # first page\n",
    "# print(page.extract_text())\n",
    "# page = page.count('Brexit')"
   ]
  },
  {
   "cell_type": "code",
   "execution_count": 23,
   "metadata": {},
   "outputs": [
    {
     "name": "stdout",
     "output_type": "stream",
     "text": [
      "Number of pages: 46\n",
      "Occurrences of 'Brexit': 12\n"
     ]
    }
   ],
   "source": [
    "from PyPDF2 import PdfFileReader\n",
    "\n",
    "# Open the PDF file in binary mode\n",
    "with open('The Journal of Finance - 2023 - HASSAN - The Global Impact of Brexit Uncertainty.pdf', 'rb') as file:\n",
    "    # Create a PdfFileReader object\n",
    "    reader = PdfReader(file)\n",
    "\n",
    "    #number of pages\n",
    "    num_pages = len(reader.pages)\n",
    "    print(f\"Number of pages: {num_pages}\")\n",
    "\n",
    "    page = reader.pages[1]  # 2nd page\n",
    "    text = page.extract_text()\n",
    "\n",
    "    # Count occurrences of 'Brexit'\n",
    "    count = text.count('Brexit')\n",
    "    print(f\"Occurrences of 'Brexit': {count}\")\n",
    "    print(text)\n"
   ]
  }
 ],
 "metadata": {
  "kernelspec": {
   "display_name": "Python 3",
   "language": "python",
   "name": "python3"
  },
  "language_info": {
   "codemirror_mode": {
    "name": "ipython",
    "version": 3
   },
   "file_extension": ".py",
   "mimetype": "text/x-python",
   "name": "python",
   "nbconvert_exporter": "python",
   "pygments_lexer": "ipython3",
   "version": "3.9.13"
  }
 },
 "nbformat": 4,
 "nbformat_minor": 2
}
